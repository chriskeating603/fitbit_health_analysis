{
 "cells": [
  {
   "cell_type": "markdown",
   "metadata": {},
   "source": [
    "## Import Packages"
   ]
  },
  {
   "cell_type": "code",
   "execution_count": 1,
   "metadata": {},
   "outputs": [],
   "source": [
    "import pandas as pd\n",
    "import numpy as np\n",
    "pd.options.mode.chained_assignment = None  # default='warn'"
   ]
  },
  {
   "cell_type": "markdown",
   "metadata": {},
   "source": [
    "## Import Simple Data"
   ]
  },
  {
   "cell_type": "markdown",
   "metadata": {},
   "source": [
    "#### Distance"
   ]
  },
  {
   "cell_type": "code",
   "execution_count": 2,
   "metadata": {},
   "outputs": [],
   "source": [
    "df_distance_raw = pd.read_csv('usable_data/simple/distance.csv')\n",
    "df_distance_raw['dateTime'] = pd.to_datetime(df_distance_raw['dateTime'])\n",
    "df_distance_raw['dateTime'] = df_distance_raw['dateTime'].apply(lambda x: str(x.date()))\n",
    "df_distance_grouped = df_distance_raw.groupby('dateTime').sum()\n",
    "# df_distance_grouped"
   ]
  },
  {
   "cell_type": "markdown",
   "metadata": {},
   "source": [
    "#### Lightly active"
   ]
  },
  {
   "cell_type": "code",
   "execution_count": 3,
   "metadata": {},
   "outputs": [],
   "source": [
    "df_lightly_active_raw = pd.read_csv('usable_data/simple/lightly_active.csv')\n",
    "df_lightly_active_raw['dateTime'] = pd.to_datetime(df_lightly_active_raw['dateTime'])\n",
    "df_lightly_active_raw['dateTime'] = df_lightly_active_raw['dateTime'].apply(lambda x: str(x.date()))\n",
    "df_lightly_active_grouped = df_lightly_active_raw.groupby('dateTime').sum()\n",
    "# df_lightly_active_grouped"
   ]
  },
  {
   "cell_type": "markdown",
   "metadata": {},
   "source": [
    "#### Moderately active"
   ]
  },
  {
   "cell_type": "code",
   "execution_count": 4,
   "metadata": {},
   "outputs": [],
   "source": [
    "df_moderately_active_raw = pd.read_csv('usable_data/simple/moderately_active.csv')\n",
    "df_moderately_active_raw['dateTime'] = pd.to_datetime(df_moderately_active_raw['dateTime'])\n",
    "df_moderately_active_raw['dateTime'] = df_moderately_active_raw['dateTime'].apply(lambda x: str(x.date()))\n",
    "df_moderately_active_grouped = df_moderately_active_raw.groupby('dateTime').sum()\n",
    "# df_moderately_active_grouped"
   ]
  },
  {
   "cell_type": "markdown",
   "metadata": {},
   "source": [
    "#### Very active"
   ]
  },
  {
   "cell_type": "code",
   "execution_count": 5,
   "metadata": {},
   "outputs": [],
   "source": [
    "df_very_active_raw = pd.read_csv('usable_data/simple/very_active.csv')\n",
    "df_very_active_raw['dateTime'] = pd.to_datetime(df_very_active_raw['dateTime'])\n",
    "df_very_active_raw['dateTime'] = df_very_active_raw['dateTime'].apply(lambda x: str(x.date()))\n",
    "df_very_active_grouped = df_very_active_raw.groupby('dateTime').sum()\n",
    "# df_very_active_grouped"
   ]
  },
  {
   "cell_type": "markdown",
   "metadata": {},
   "source": [
    "#### Sedentary"
   ]
  },
  {
   "cell_type": "code",
   "execution_count": 6,
   "metadata": {},
   "outputs": [],
   "source": [
    "df_sedentary_raw = pd.read_csv('usable_data/simple/sedentary.csv')\n",
    "df_sedentary_raw['dateTime'] = pd.to_datetime(df_sedentary_raw['dateTime'])\n",
    "df_sedentary_raw['dateTime'] = df_sedentary_raw['dateTime'].apply(lambda x: str(x.date()))\n",
    "df_sedentary_grouped = df_sedentary_raw.groupby('dateTime').sum()\n",
    "# df_sedentary_grouped"
   ]
  },
  {
   "cell_type": "markdown",
   "metadata": {},
   "source": [
    "#### Steps"
   ]
  },
  {
   "cell_type": "code",
   "execution_count": 7,
   "metadata": {},
   "outputs": [],
   "source": [
    "df_steps_raw = pd.read_csv('usable_data/simple/steps.csv')\n",
    "df_steps_raw['dateTime'] = pd.to_datetime(df_steps_raw['dateTime'])\n",
    "df_steps_raw['dateTime'] = df_steps_raw['dateTime'].apply(lambda x: str(x.date()))\n",
    "df_steps_grouped = df_steps_raw.groupby('dateTime').sum()\n",
    "# df_steps_grouped"
   ]
  },
  {
   "cell_type": "markdown",
   "metadata": {},
   "source": [
    "## Import Complex Data"
   ]
  },
  {
   "cell_type": "markdown",
   "metadata": {},
   "source": [
    "#### Weight"
   ]
  },
  {
   "cell_type": "code",
   "execution_count": 8,
   "metadata": {},
   "outputs": [],
   "source": [
    "df_weight_raw = pd.read_csv('usable_data/complex/weight.csv')\n",
    "df_weight_raw['dateTime'] = pd.to_datetime(df_weight_raw['date'])\n",
    "df_weight_raw['dateTime'] = df_weight_raw['dateTime'].apply(lambda x: str(x.date()))\n",
    "df_weight_grouped = df_weight_raw.groupby('dateTime').max()\n",
    "df_weight_grouped = df_weight_grouped.drop(columns=['logId', 'time', 'source'])\n",
    "# df_weight_grouped"
   ]
  },
  {
   "cell_type": "markdown",
   "metadata": {},
   "source": [
    "#### Swim"
   ]
  },
  {
   "cell_type": "code",
   "execution_count": 9,
   "metadata": {},
   "outputs": [],
   "source": [
    "df_swim_raw = pd.read_csv('usable_data/complex/swim.csv')\n",
    "df_swim_raw['dateTime'] = pd.to_datetime(df_swim_raw['dateTime'])\n",
    "df_swim_raw['dateTime'] = df_swim_raw['dateTime'].apply(lambda x: str(x.date()))\n",
    "df_swim_raw['value'] = df_swim_raw['value'].apply(lambda x: eval(x))\n",
    "df_swim_raw['lapDurationSec'] = df_swim_raw['value'].apply(lambda x: x['lapDurationSec'])\n",
    "df_swim_raw['strokeCount'] = df_swim_raw['value'].apply(lambda x: x['strokeCount'])\n",
    "df_swim_grouped = df_swim_raw.groupby('dateTime').sum()\n",
    "# df_swim_grouped"
   ]
  },
  {
   "cell_type": "markdown",
   "metadata": {},
   "source": [
    "#### Resting Heart Rate"
   ]
  },
  {
   "cell_type": "code",
   "execution_count": 10,
   "metadata": {},
   "outputs": [],
   "source": [
    "df_resting_hr_raw = pd.read_csv('usable_data/complex/resting_hr.csv')\n",
    "df_resting_hr_raw = df_resting_hr_raw[df_resting_hr_raw['value'] != '{\"date\":null,\"value\":0,\"error\":0}']\n",
    "df_resting_hr_raw = df_resting_hr_raw[['value']]\n",
    "df_resting_hr_raw['value'] = df_resting_hr_raw['value'].apply(lambda x: eval(x))\n",
    "df_resting_hr_raw['dateTime'] = df_resting_hr_raw['value'].apply(lambda x: pd.to_datetime(x['date']).date())\n",
    "df_resting_hr_raw['error'] = df_resting_hr_raw['value'].apply(lambda x: x['error'])\n",
    "df_resting_hr_raw['value'] = df_resting_hr_raw['value'].apply(lambda x: x['value'])\n",
    "df_resting_hr_grouped = df_resting_hr_raw.groupby('dateTime').mean()\n",
    "# df_resting_hr_grouped"
   ]
  },
  {
   "cell_type": "markdown",
   "metadata": {},
   "source": [
    "#### Sleep"
   ]
  },
  {
   "cell_type": "code",
   "execution_count": 11,
   "metadata": {},
   "outputs": [],
   "source": [
    "df_sleep_1 = pd.read_csv('usable_data/complex/sleep.csv')\n",
    "df_sleep_2 = pd.read_csv('usable_data/complex/sleep_v2.csv')\n",
    "df_sleep = pd.concat([df_sleep_1, df_sleep_2], axis=0).reset_index(drop=True)\n",
    "df_sleep.drop_duplicates(subset=['logId'], inplace=True)\n",
    "df_sleep = df_sleep.drop(columns=['startTime', 'endTime', 'minutesAfterWakeup', 'timeInBed', 'infoCode', 'mainSleep']).set_index('dateOfSleep')\n",
    "df_sleep['duration'] = df_sleep['duration'].apply(lambda x: x/(1000*60))\n",
    "df_sleep = df_sleep.sort_values(by='dateOfSleep', ascending=True)\n",
    "df_sleep['levels'] = df_sleep['levels'].apply(lambda x: eval(x)['summary'])\n",
    "df_sleep_classic = df_sleep[df_sleep['type'] == 'classic']\n",
    "df_sleep_stages = df_sleep[df_sleep['type'] == 'stages']\n",
    "df_sleep_stages['deep'] = df_sleep_stages['levels'].apply(lambda x: x['deep']['minutes'])\n",
    "df_sleep_stages['light'] = df_sleep_stages['levels'].apply(lambda x: x['light']['minutes'])\n",
    "df_sleep_stages['rem'] = df_sleep_stages['levels'].apply(lambda x: x['rem']['minutes'])\n",
    "df_sleep = pd.concat([df_sleep_classic, df_sleep_stages], axis=0).sort_values('dateOfSleep', ascending=True).drop(columns=['levels', 'type']) #, 'logId'\n",
    "# df_sleep"
   ]
  },
  {
   "cell_type": "code",
   "execution_count": 12,
   "metadata": {},
   "outputs": [],
   "source": [
    "df_sleep_score = pd.read_csv('usable_data/complex/sleep_score.csv')\n",
    "df_sleep_score['timestamp'] = pd.to_datetime(df_sleep_score['timestamp'])\n",
    "df_sleep_score['timestamp'] = df_sleep_score['timestamp'].apply(lambda x: str(x.date()))\n",
    "df_sleep_score = df_sleep_score.groupby('timestamp').mean().drop(columns=['sleep_log_entry_id'])\n",
    "# df_sleep_score"
   ]
  }
 ],
 "metadata": {
  "kernelspec": {
   "display_name": "Python 3",
   "language": "python",
   "name": "python3"
  },
  "language_info": {
   "codemirror_mode": {
    "name": "ipython",
    "version": 3
   },
   "file_extension": ".py",
   "mimetype": "text/x-python",
   "name": "python",
   "nbconvert_exporter": "python",
   "pygments_lexer": "ipython3",
   "version": "3.8.6"
  }
 },
 "nbformat": 4,
 "nbformat_minor": 4
}
