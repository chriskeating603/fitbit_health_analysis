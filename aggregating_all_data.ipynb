{
 "cells": [
  {
   "cell_type": "markdown",
   "metadata": {},
   "source": [
    "## Import Packages"
   ]
  },
  {
   "cell_type": "code",
   "execution_count": 1,
   "metadata": {},
   "outputs": [],
   "source": [
    "import pandas as pd\n",
    "import numpy as np\n",
    "pd.options.mode.chained_assignment = None  # default='warn'"
   ]
  },
  {
   "cell_type": "markdown",
   "metadata": {},
   "source": [
    "## Import Simple Data"
   ]
  },
  {
   "cell_type": "markdown",
   "metadata": {},
   "source": [
    "#### Distance"
   ]
  },
  {
   "cell_type": "code",
   "execution_count": 2,
   "metadata": {},
   "outputs": [],
   "source": [
    "df_distance_raw = pd.read_csv('usable_data/simple/distance.csv')\n",
    "df_distance_raw['dateTime'] = pd.to_datetime(df_distance_raw['dateTime'])\n",
    "df_distance_raw['dateTime'] = df_distance_raw['dateTime'].apply(lambda x: str(x.date()))\n",
    "df_distance_grouped = df_distance_raw.groupby('dateTime').sum()\n",
    "df_distance_grouped.rename(columns={'value':'distance_traveled_miles'}, inplace=True)\n",
    "df_distance_grouped['distance_traveled_miles'] = df_distance_grouped['distance_traveled_miles'].apply(lambda x: x/160934)\n",
    "# df_distance_grouped.head()"
   ]
  },
  {
   "cell_type": "markdown",
   "metadata": {},
   "source": [
    "#### Lightly active"
   ]
  },
  {
   "cell_type": "code",
   "execution_count": 3,
   "metadata": {},
   "outputs": [],
   "source": [
    "df_lightly_active_raw = pd.read_csv('usable_data/simple/lightly_active.csv')\n",
    "df_lightly_active_raw['dateTime'] = pd.to_datetime(df_lightly_active_raw['dateTime'])\n",
    "df_lightly_active_raw['dateTime'] = df_lightly_active_raw['dateTime'].apply(lambda x: str(x.date()))\n",
    "df_lightly_active_grouped = df_lightly_active_raw.groupby('dateTime').sum()\n",
    "df_lightly_active_grouped.rename(columns={'value':'lightly_active_min'}, inplace=True)\n",
    "# df_lightly_active_grouped.head()"
   ]
  },
  {
   "cell_type": "markdown",
   "metadata": {},
   "source": [
    "#### Moderately active"
   ]
  },
  {
   "cell_type": "code",
   "execution_count": 4,
   "metadata": {},
   "outputs": [],
   "source": [
    "df_moderately_active_raw = pd.read_csv('usable_data/simple/moderately_active.csv')\n",
    "df_moderately_active_raw['dateTime'] = pd.to_datetime(df_moderately_active_raw['dateTime'])\n",
    "df_moderately_active_raw['dateTime'] = df_moderately_active_raw['dateTime'].apply(lambda x: str(x.date()))\n",
    "df_moderately_active_grouped = df_moderately_active_raw.groupby('dateTime').sum()\n",
    "df_moderately_active_grouped.rename(columns={'value':'moderately_active_min'}, inplace=True)\n",
    "# df_moderately_active_grouped.head()"
   ]
  },
  {
   "cell_type": "markdown",
   "metadata": {},
   "source": [
    "#### Very active"
   ]
  },
  {
   "cell_type": "code",
   "execution_count": 5,
   "metadata": {},
   "outputs": [],
   "source": [
    "df_very_active_raw = pd.read_csv('usable_data/simple/very_active.csv')\n",
    "df_very_active_raw['dateTime'] = pd.to_datetime(df_very_active_raw['dateTime'])\n",
    "df_very_active_raw['dateTime'] = df_very_active_raw['dateTime'].apply(lambda x: str(x.date()))\n",
    "df_very_active_grouped = df_very_active_raw.groupby('dateTime').sum()\n",
    "df_very_active_grouped.rename(columns={'value':'very_active_min'}, inplace=True)\n",
    "# df_very_active_grouped.head()"
   ]
  },
  {
   "cell_type": "markdown",
   "metadata": {},
   "source": [
    "#### Sedentary"
   ]
  },
  {
   "cell_type": "code",
   "execution_count": 6,
   "metadata": {},
   "outputs": [],
   "source": [
    "df_sedentary_raw = pd.read_csv('usable_data/simple/sedentary.csv')\n",
    "df_sedentary_raw['dateTime'] = pd.to_datetime(df_sedentary_raw['dateTime'])\n",
    "df_sedentary_raw['dateTime'] = df_sedentary_raw['dateTime'].apply(lambda x: str(x.date()))\n",
    "df_sedentary_grouped = df_sedentary_raw.groupby('dateTime').sum()\n",
    "df_sedentary_grouped.rename(columns={'value':'sedentary_min'}, inplace=True)\n",
    "# df_sedentary_grouped.head()"
   ]
  },
  {
   "cell_type": "markdown",
   "metadata": {},
   "source": [
    "#### Steps"
   ]
  },
  {
   "cell_type": "code",
   "execution_count": 7,
   "metadata": {},
   "outputs": [],
   "source": [
    "df_steps_raw = pd.read_csv('usable_data/simple/steps.csv')\n",
    "df_steps_raw['dateTime'] = pd.to_datetime(df_steps_raw['dateTime'])\n",
    "df_steps_raw['dateTime'] = df_steps_raw['dateTime'].apply(lambda x: str(x.date()))\n",
    "df_steps_grouped = df_steps_raw.groupby('dateTime').sum()\n",
    "df_steps_grouped.rename(columns={'value':'steps_taken'}, inplace=True)\n",
    "# df_steps_grouped.head()"
   ]
  },
  {
   "cell_type": "markdown",
   "metadata": {},
   "source": [
    "## Import Complex Data"
   ]
  },
  {
   "cell_type": "markdown",
   "metadata": {},
   "source": [
    "#### Weight"
   ]
  },
  {
   "cell_type": "code",
   "execution_count": 8,
   "metadata": {},
   "outputs": [],
   "source": [
    "df_weight_raw = pd.read_csv('usable_data/complex/weight.csv')\n",
    "df_weight_raw['dateTime'] = pd.to_datetime(df_weight_raw['date'])\n",
    "df_weight_raw['dateTime'] = df_weight_raw['dateTime'].apply(lambda x: str(x.date()))\n",
    "df_weight_grouped = df_weight_raw.groupby('dateTime').max()\n",
    "df_weight_grouped = df_weight_grouped.drop(columns=['logId', 'time', 'source', 'date'])\n",
    "# df_weight_grouped.head()"
   ]
  },
  {
   "cell_type": "markdown",
   "metadata": {},
   "source": [
    "#### Swim"
   ]
  },
  {
   "cell_type": "code",
   "execution_count": 9,
   "metadata": {},
   "outputs": [],
   "source": [
    "df_swim_raw = pd.read_csv('usable_data/complex/swim.csv')\n",
    "df_swim_raw['dateTime'] = pd.to_datetime(df_swim_raw['dateTime'])\n",
    "df_swim_raw['dateTime'] = df_swim_raw['dateTime'].apply(lambda x: str(x.date()))\n",
    "df_swim_raw['value'] = df_swim_raw['value'].apply(lambda x: eval(x))\n",
    "df_swim_raw['lapDurationSec'] = df_swim_raw['value'].apply(lambda x: x['lapDurationSec'])\n",
    "df_swim_raw['strokeCount'] = df_swim_raw['value'].apply(lambda x: x['strokeCount'])\n",
    "df_swim_grouped = df_swim_raw.groupby('dateTime').sum()\n",
    "df_swim_grouped.rename(columns={'lapDurationSec':'swim_min', 'strokeCount':'stroke_count'}, inplace=True)\n",
    "# df_swim_grouped.head()"
   ]
  },
  {
   "cell_type": "markdown",
   "metadata": {},
   "source": [
    "#### Resting Heart Rate"
   ]
  },
  {
   "cell_type": "code",
   "execution_count": 10,
   "metadata": {},
   "outputs": [],
   "source": [
    "df_resting_hr_raw = pd.read_csv('usable_data/complex/resting_hr.csv')\n",
    "df_resting_hr_raw = df_resting_hr_raw[df_resting_hr_raw['value'] != '{\"date\":null,\"value\":0,\"error\":0}']\n",
    "df_resting_hr_raw = df_resting_hr_raw[['value']]\n",
    "df_resting_hr_raw['value'] = df_resting_hr_raw['value'].apply(lambda x: eval(x))\n",
    "df_resting_hr_raw['dateTime'] = df_resting_hr_raw['value'].apply(lambda x: str(pd.to_datetime(x['date']).date()))\n",
    "df_resting_hr_raw['error'] = df_resting_hr_raw['value'].apply(lambda x: x['error'])\n",
    "df_resting_hr_raw['value'] = df_resting_hr_raw['value'].apply(lambda x: x['value'])\n",
    "df_resting_hr_grouped = df_resting_hr_raw.groupby('dateTime').mean()\n",
    "df_resting_hr_grouped.rename(columns={'value':'resting_heart_rate', 'error':'error_margin'}, inplace=True)\n",
    "# df_resting_hr_grouped.head()"
   ]
  },
  {
   "cell_type": "markdown",
   "metadata": {},
   "source": [
    "#### Sleep Score"
   ]
  },
  {
   "cell_type": "code",
   "execution_count": 11,
   "metadata": {},
   "outputs": [],
   "source": [
    "df_sleep_score = pd.read_csv('usable_data/complex/sleep_score.csv')\n",
    "df_sleep_score['timestamp'] = pd.to_datetime(df_sleep_score['timestamp'])\n",
    "df_sleep_score['dateTime'] = df_sleep_score['timestamp'].apply(lambda x: str(x.date() - pd.Timedelta(days=1)))\n",
    "df_sleep_score = df_sleep_score.groupby('dateTime').mean().drop(columns=['sleep_log_entry_id'])\n",
    "df_sleep_score.rename(columns={'overall_score':'sleep_overall_score','composition_score':'sleep_composition_score','revitalization_score':'sleep_revitalization_score', 'duration_score':'sleep_duration_score','deep_sleep_in_minutes':'sleep_deep_sleep_min','resting_heart_rate':'sleep_resting_heart_rate','restlessness':'sleep_restlessness_score'}, inplace=True)\n",
    "# df_sleep_score.head()"
   ]
  },
  {
   "cell_type": "markdown",
   "metadata": {},
   "source": [
    "#### Sleep Metrics"
   ]
  },
  {
   "cell_type": "code",
   "execution_count": 12,
   "metadata": {},
   "outputs": [],
   "source": [
    "df_sleep_1 = pd.read_csv('usable_data/complex/sleep.csv')\n",
    "df_sleep_2 = pd.read_csv('usable_data/complex/sleep_v2.csv')\n",
    "df_sleep = pd.concat([df_sleep_1, df_sleep_2], axis=0).reset_index(drop=True)\n",
    "df_sleep.drop_duplicates(subset=['logId'], inplace=True)\n",
    "df_sleep['dateTime'] = df_sleep['dateOfSleep'].apply(lambda x: str(pd.to_datetime(x).date() - pd.Timedelta(days=1))) # this will shift the day of sleep to match the day of activity\n",
    "df_sleep = df_sleep.drop(columns=['startTime', 'endTime', 'minutesAfterWakeup', 'timeInBed', 'infoCode', 'mainSleep', 'efficiency', 'dateOfSleep']).set_index('dateTime')\n",
    "df_sleep['duration'] = df_sleep['duration'].apply(lambda x: x/(1000*60))\n",
    "df_sleep = df_sleep.sort_values(by='dateTime', ascending=True)\n",
    "df_sleep['levels'] = df_sleep['levels'].apply(lambda x: eval(x)['summary'])\n",
    "df_sleep_classic = df_sleep[df_sleep['type'] == 'classic']\n",
    "df_sleep_stages = df_sleep[df_sleep['type'] == 'stages']\n",
    "df_sleep_stages['deep'] = df_sleep_stages['levels'].apply(lambda x: x['deep']['minutes'])\n",
    "df_sleep_stages['light'] = df_sleep_stages['levels'].apply(lambda x: x['light']['minutes'])\n",
    "df_sleep_stages['rem'] = df_sleep_stages['levels'].apply(lambda x: x['rem']['minutes'])\n",
    "df_sleep = pd.concat([df_sleep_classic, df_sleep_stages], axis=0).sort_values('dateTime', ascending=True).drop(columns=['levels', 'type', 'logId']) #.reset_index() \n",
    "df_sleep.rename(columns={'duration':'time_sleeping', 'minutesToFallAsleep':'minutes_to_fall_asleep', 'minutesToFallAsleep':'minutes_to_fall_asleep', 'minutesAsleep':'minutes_asleep', 'minutesAwake':'minutes_awake', 'deep':'deep_sleep_min', 'light':'light_sleep_min', 'rem':'rem_sleep_min'}, inplace=True)\n",
    "df_sleep_grouped = df_sleep.groupby('dateTime').sum()\n",
    "# df_sleep_grouped.head()"
   ]
  },
  {
   "cell_type": "markdown",
   "metadata": {},
   "source": [
    "## Merging DFs"
   ]
  },
  {
   "cell_type": "code",
   "execution_count": 13,
   "metadata": {},
   "outputs": [],
   "source": [
    "df = pd.merge(df_distance_grouped, df_lightly_active_grouped, how='outer', on='dateTime')\n",
    "df = pd.merge(df, df_moderately_active_grouped, how='outer', on='dateTime')\n",
    "df = pd.merge(df, df_very_active_grouped, how='outer', on='dateTime')\n",
    "df = pd.merge(df, df_sedentary_grouped, how='outer', on='dateTime')\n",
    "df = pd.merge(df, df_steps_grouped, how='outer', on='dateTime')\n",
    "df = pd.merge(df, df_weight_grouped, how='outer', on='dateTime')\n",
    "df = pd.merge(df, df_swim_grouped, how='outer', on='dateTime')\n",
    "df = pd.merge(df, df_sleep_score, how='outer', on='dateTime')\n",
    "df = pd.merge(df, df_resting_hr_grouped, how='outer', on='dateTime')\n",
    "df = pd.merge(df, df_sleep_grouped, how='outer', on='dateTime')\n",
    "df.sort_values('dateTime', ascending=True, inplace=True)"
   ]
  },
  {
   "cell_type": "code",
   "execution_count": 14,
   "metadata": {},
   "outputs": [
    {
     "name": "stdout",
     "output_type": "stream",
     "text": [
      "distance_traveled_miles 43.3987% filled\n",
      "lightly_active_min 100.0% filled\n",
      "moderately_active_min 100.0% filled\n",
      "very_active_min 100.0% filled\n",
      "sedentary_min 100.0% filled\n",
      "steps_taken 44.3137% filled\n",
      "weight 3.0719% filled\n",
      "bmi 3.0719% filled\n",
      "fat 2.8105% filled\n",
      "swim_min 28.2353% filled\n",
      "stroke_count 28.2353% filled\n",
      "sleep_overall_score 9.3464% filled\n",
      "sleep_composition_score 9.3464% filled\n",
      "sleep_revitalization_score 9.3464% filled\n",
      "sleep_duration_score 9.3464% filled\n",
      "sleep_deep_sleep_min 9.3464% filled\n",
      "sleep_resting_heart_rate 9.3464% filled\n",
      "sleep_restlessness_score 9.3464% filled\n",
      "resting_heart_rate 31.2418% filled\n",
      "error_margin 31.2418% filled\n",
      "time_sleeping 31.8954% filled\n",
      "minutes_to_fall_asleep 31.8954% filled\n",
      "minutes_asleep 31.8954% filled\n",
      "minutes_awake 31.8954% filled\n",
      "deep_sleep_min 31.8954% filled\n",
      "light_sleep_min 31.8954% filled\n",
      "rem_sleep_min 31.8954% filled\n"
     ]
    }
   ],
   "source": [
    "for column in df:\n",
    "    print(column, f'{round(df[column].notna().sum()/len(df)*100, 4)}% filled')"
   ]
  },
  {
   "cell_type": "code",
   "execution_count": 15,
   "metadata": {},
   "outputs": [],
   "source": [
    "df.to_csv(r'usable_data/merged_data.csv')"
   ]
  }
 ],
 "metadata": {
  "kernelspec": {
   "display_name": "Python 3",
   "language": "python",
   "name": "python3"
  },
  "language_info": {
   "codemirror_mode": {
    "name": "ipython",
    "version": 3
   },
   "file_extension": ".py",
   "mimetype": "text/x-python",
   "name": "python",
   "nbconvert_exporter": "python",
   "pygments_lexer": "ipython3",
   "version": "3.8.6"
  }
 },
 "nbformat": 4,
 "nbformat_minor": 4
}
